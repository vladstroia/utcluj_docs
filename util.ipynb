{
 "cells": [
  {
   "cell_type": "code",
   "execution_count": 1,
   "metadata": {},
   "outputs": [],
   "source": [
    "#used this file to interpret tabel_materii.csv"
   ]
  },
  {
   "cell_type": "code",
   "execution_count": 11,
   "metadata": {},
   "outputs": [],
   "source": [
    "import pandas as pd\n",
    "\n",
    "df = pd.read_csv('tabel_materii.csv')\n",
    "# print(df)\n",
    "# we have to create the context object for each row in the csv file\n",
    "context = {}\n",
    "\n"
   ]
  },
  {
   "cell_type": "code",
   "execution_count": 16,
   "metadata": {},
   "outputs": [],
   "source": [
    "df['an'][0]\n",
    "fisa = {}\n",
    "fisa[\"p1_2\"] = df['facultate'][0]\n",
    "fisa[\"p1_3\"] = df['nume_catedra'][0]\n",
    "fisa[\"p1_8\"] = df['nrcrt'][0]\n",
    "fisa[\"p2_1\"] = df['nume_disciplina'][0]\n",
    "# fisa[\"p2_2\"] = df[''][0]\n",
    "# fisa[\"p2_3\"] = df[''][0]\n",
    "fisa[\"p2_4\"] = df['an'][0]\n",
    "fisa[\"p2_5\"] = df['sem'][0]\n",
    "fisa[\"p2_6\"] = df['examen'][0]\n"
   ]
  },
  {
   "cell_type": "code",
   "execution_count": 17,
   "metadata": {},
   "outputs": [
    {
     "data": {
      "text/plain": [
       "{'p1_1': 1}"
      ]
     },
     "execution_count": 17,
     "metadata": {},
     "output_type": "execute_result"
    }
   ],
   "source": [
    "fisa"
   ]
  },
  {
   "cell_type": "code",
   "execution_count": null,
   "metadata": {},
   "outputs": [],
   "source": []
  }
 ],
 "metadata": {
  "kernelspec": {
   "display_name": "Python 3.10.6 64-bit",
   "language": "python",
   "name": "python3"
  },
  "language_info": {
   "codemirror_mode": {
    "name": "ipython",
    "version": 3
   },
   "file_extension": ".py",
   "mimetype": "text/x-python",
   "name": "python",
   "nbconvert_exporter": "python",
   "pygments_lexer": "ipython3",
   "version": "3.10.6"
  },
  "orig_nbformat": 4,
  "vscode": {
   "interpreter": {
    "hash": "e7370f93d1d0cde622a1f8e1c04877d8463912d04d973331ad4851f04de6915a"
   }
  }
 },
 "nbformat": 4,
 "nbformat_minor": 2
}
